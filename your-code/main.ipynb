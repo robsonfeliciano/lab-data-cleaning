{
 "cells": [
  {
   "cell_type": "markdown",
   "metadata": {},
   "source": [
    "#### 1. Import pandas library"
   ]
  },
  {
   "cell_type": "code",
   "execution_count": 28,
   "metadata": {},
   "outputs": [],
   "source": [
    "import pandas as pd"
   ]
  },
  {
   "cell_type": "markdown",
   "metadata": {},
   "source": [
    "#### 2. Import users table:"
   ]
  },
  {
   "cell_type": "code",
   "execution_count": 29,
   "metadata": {},
   "outputs": [],
   "source": [
    "users = pd.read_csv('users_table.csv')"
   ]
  },
  {
   "cell_type": "markdown",
   "metadata": {},
   "source": [
    "#### 3. Rename Id column to userId"
   ]
  },
  {
   "cell_type": "code",
   "execution_count": 30,
   "metadata": {},
   "outputs": [
    {
     "name": "stdout",
     "output_type": "stream",
     "text": [
      "   userId  Reputation         CreationDate   DisplayName       LastAccessDate  \\\n",
      "0      -1           1  2010-07-19 06:55:26     Community  2010-07-19 06:55:26   \n",
      "1       2         101  2010-07-19 14:01:36  Geoff Dalgas  2013-11-12 22:07:23   \n",
      "2       3         101  2010-07-19 15:34:50  Jarrod Dixon  2014-08-08 06:42:58   \n",
      "3       4         101  2010-07-19 19:03:27        Emmett  2014-01-02 09:31:02   \n",
      "4       5        6792  2010-07-19 19:03:57         Shane  2014-08-13 00:23:47   \n",
      "\n",
      "                       WebsiteUrl            Location  \\\n",
      "0  http://meta.stackexchange.com/  on the server farm   \n",
      "1        http://stackoverflow.com       Corvallis, OR   \n",
      "2        http://stackoverflow.com        New York, NY   \n",
      "3    http://minesweeperonline.com   San Francisco, CA   \n",
      "4         http://www.statalgo.com        New York, NY   \n",
      "\n",
      "                                             AboutMe  Views  UpVotes  \\\n",
      "0  <p>Hi, I'm not really a person.</p>\\n\\n<p>I'm ...      0     5007   \n",
      "1  <p>Developer on the StackOverflow team.  Find ...     25        3   \n",
      "2  <p><a href=\"http://blog.stackoverflow.com/2009...     22       19   \n",
      "3  <p>currently at a startup in SF</p>\\n\\n<p>form...     11        0   \n",
      "4  <p>Quantitative researcher focusing on statist...   1145      662   \n",
      "\n",
      "   DownVotes  AccountId   Age                     ProfileImageUrl  \n",
      "0       1920         -1   NaN                                 NaN  \n",
      "1          0          2  37.0                                 NaN  \n",
      "2          0          3  35.0                                 NaN  \n",
      "3          0       1998  28.0  http://i.stack.imgur.com/d1oHX.jpg  \n",
      "4          5      54503  35.0                                 NaN  \n"
     ]
    }
   ],
   "source": [
    "users = users.rename(columns={'Id':'userId'})\n",
    "print(users.head())"
   ]
  },
  {
   "cell_type": "markdown",
   "metadata": {},
   "source": [
    "#### 4. Import posts table:"
   ]
  },
  {
   "cell_type": "code",
   "execution_count": 31,
   "metadata": {},
   "outputs": [],
   "source": [
    "posts = pd.read_csv('posts_table.csv')"
   ]
  },
  {
   "cell_type": "markdown",
   "metadata": {},
   "source": [
    "#### 5. Rename Id column to postId and OwnerUserId to userId"
   ]
  },
  {
   "cell_type": "code",
   "execution_count": 32,
   "metadata": {},
   "outputs": [
    {
     "name": "stdout",
     "output_type": "stream",
     "text": [
      "   postId  PostTypeId  AcceptedAnswerId          CreaionDate  Score  \\\n",
      "0       1           1              15.0  2010-07-19 19:12:12     23   \n",
      "1       2           1              59.0  2010-07-19 19:12:57     22   \n",
      "2       3           1               5.0  2010-07-19 19:13:28     54   \n",
      "3       4           1             135.0  2010-07-19 19:13:31     13   \n",
      "4       5           2               NaN  2010-07-19 19:14:43     81   \n",
      "\n",
      "   ViewCount                                               Body  userId  \\\n",
      "0     1278.0  <p>How should I elicit prior distributions fro...     8.0   \n",
      "1     8198.0  <p>In many different statistical methods there...    24.0   \n",
      "2     3613.0  <p>What are some valuable Statistical Analysis...    18.0   \n",
      "3     5224.0  <p>I have two groups of data.  Each with a dif...    23.0   \n",
      "4        NaN  <p>The R-project</p>\\n\\n<p><a href=\"http://www...    23.0   \n",
      "\n",
      "       LasActivityDate                                              Title  \\\n",
      "0  2010-09-15 21:08:26                      Eliciting priors from experts   \n",
      "1  2012-11-12 09:21:54                                 What is normality?   \n",
      "2  2013-05-27 14:48:36  What are some valuable Statistical Analysis op...   \n",
      "3  2010-09-08 03:00:19  Assessing the significance of differences in d...   \n",
      "4  2010-07-19 19:21:15                                                NaN   \n",
      "\n",
      "   ... AnswerCount  CommentCount  FavoriteCount  LastEditorUserId  \\\n",
      "0  ...         5.0             1           14.0               NaN   \n",
      "1  ...         7.0             1            8.0              88.0   \n",
      "2  ...        19.0             4           36.0             183.0   \n",
      "3  ...         5.0             2            2.0               NaN   \n",
      "4  ...         NaN             3            NaN              23.0   \n",
      "\n",
      "          LastEditDate   CommunityOwnedDate ParentId  ClosedDate  \\\n",
      "0                  NaN                  NaN      NaN         NaN   \n",
      "1  2010-08-07 17:56:44                  NaN      NaN         NaN   \n",
      "2  2011-02-12 05:50:03  2010-07-19 19:13:28      NaN         NaN   \n",
      "3                  NaN                  NaN      NaN         NaN   \n",
      "4  2010-07-19 19:21:15  2010-07-19 19:14:43      3.0         NaN   \n",
      "\n",
      "  OwnerDisplayName LastEditorDisplayName  \n",
      "0              NaN                   NaN  \n",
      "1              NaN                   NaN  \n",
      "2              NaN                   NaN  \n",
      "3              NaN                   NaN  \n",
      "4              NaN                   NaN  \n",
      "\n",
      "[5 rows x 21 columns]\n"
     ]
    }
   ],
   "source": [
    "posts = posts.rename(columns={'Id':'postId','OwnerUserId':'userId'})\n",
    "print(posts.head())"
   ]
  },
  {
   "cell_type": "markdown",
   "metadata": {},
   "source": [
    "#### 6. Define new dataframes for users and posts with the following selected columns:\n",
    "    **users columns**: userId, Reputation,Views,UpVotes,DownVotes\n",
    "    **posts columns**: postId, Score,userId,ViewCount,CommentCount"
   ]
  },
  {
   "cell_type": "code",
   "execution_count": 34,
   "metadata": {},
   "outputs": [],
   "source": [
    "new_users = users[['userId', 'Reputation','Views','UpVotes','DownVotes']]\n",
    "new_posts = posts[['postId', 'Score','userId','ViewCount','CommentCount']]"
   ]
  },
  {
   "cell_type": "markdown",
   "metadata": {},
   "source": [
    "#### 7. Merge both dataframes, users and posts. \n",
    "You will need to make a [merge](https://pandas.pydata.org/pandas-docs/stable/generated/pandas.DataFrame.merge.html) of posts and users dataframes."
   ]
  },
  {
   "cell_type": "code",
   "execution_count": 51,
   "metadata": {},
   "outputs": [],
   "source": [
    "new_data = new_users.merge(new_posts)"
   ]
  },
  {
   "cell_type": "markdown",
   "metadata": {},
   "source": [
    "#### 8. How many missing values do you have in your merged dataframe? On which columns?"
   ]
  },
  {
   "cell_type": "code",
   "execution_count": 54,
   "metadata": {},
   "outputs": [
    {
     "data": {
      "text/plain": [
       "userId              0\n",
       "Reputation          0\n",
       "Views               0\n",
       "UpVotes             0\n",
       "DownVotes           0\n",
       "postId              0\n",
       "Score               0\n",
       "ViewCount       23572\n",
       "CommentCount        0\n",
       "dtype: int64"
      ]
     },
     "execution_count": 54,
     "metadata": {},
     "output_type": "execute_result"
    }
   ],
   "source": [
    "new_data.isnull().sum()\n",
    "#Total number of missing data is 23572 and you may find this in column viewcount"
   ]
  },
  {
   "cell_type": "markdown",
   "metadata": {},
   "source": [
    "#### 9. You will need to make something with missing values.  Will you clean or filling them? Explain. \n",
    "**Remember** to check the results of your code before passing to the next step"
   ]
  },
  {
   "cell_type": "code",
   "execution_count": 58,
   "metadata": {},
   "outputs": [
    {
     "data": {
      "text/plain": [
       "userId          0\n",
       "Reputation      0\n",
       "Views           0\n",
       "UpVotes         0\n",
       "DownVotes       0\n",
       "postId          0\n",
       "Score           0\n",
       "ViewCount       0\n",
       "CommentCount    0\n",
       "dtype: int64"
      ]
     },
     "execution_count": 58,
     "metadata": {},
     "output_type": "execute_result"
    }
   ],
   "source": [
    "#I would clean it, since if there is no viewer, it shouldn't have the other values\n",
    "new_data = new_data.dropna()\n",
    "new_data.isnull().sum()"
   ]
  },
  {
   "cell_type": "markdown",
   "metadata": {},
   "source": [
    "#### 10. Adjust the data types in order to avoid future issues. Which ones should be changed? "
   ]
  },
  {
   "cell_type": "code",
   "execution_count": 62,
   "metadata": {},
   "outputs": [
    {
     "name": "stdout",
     "output_type": "stream",
     "text": [
      "<class 'pandas.core.frame.DataFrame'>\n",
      "Int64Index: 15390 entries, 123 to 38960\n",
      "Data columns (total 9 columns):\n",
      " #   Column        Non-Null Count  Dtype\n",
      "---  ------        --------------  -----\n",
      " 0   userId        15390 non-null  int64\n",
      " 1   Reputation    15390 non-null  int64\n",
      " 2   Views         15390 non-null  int64\n",
      " 3   UpVotes       15390 non-null  int64\n",
      " 4   DownVotes     15390 non-null  int64\n",
      " 5   postId        15390 non-null  int64\n",
      " 6   Score         15390 non-null  int64\n",
      " 7   ViewCount     15390 non-null  int64\n",
      " 8   CommentCount  15390 non-null  int64\n",
      "dtypes: int64(9)\n",
      "memory usage: 1.2 MB\n",
      "<class 'pandas.core.frame.DataFrame'>\n",
      "Int64Index: 15390 entries, 123 to 38960\n",
      "Data columns (total 9 columns):\n",
      " #   Column        Non-Null Count  Dtype\n",
      "---  ------        --------------  -----\n",
      " 0   userId        15390 non-null  int64\n",
      " 1   Reputation    15390 non-null  int64\n",
      " 2   Views         15390 non-null  int64\n",
      " 3   UpVotes       15390 non-null  int64\n",
      " 4   DownVotes     15390 non-null  int64\n",
      " 5   postId        15390 non-null  int64\n",
      " 6   Score         15390 non-null  int64\n",
      " 7   ViewCount     15390 non-null  int64\n",
      " 8   CommentCount  15390 non-null  int64\n",
      "dtypes: int64(9)\n",
      "memory usage: 1.2 MB\n"
     ]
    }
   ],
   "source": [
    "new_data.info()\n",
    "#We shall adjust the column ViewCount which is showing a float type\n",
    "new_data['ViewCount'] = new_data['ViewCount'].astype('int')"
   ]
  },
  {
   "cell_type": "code",
   "execution_count": null,
   "metadata": {},
   "outputs": [],
   "source": []
  }
 ],
 "metadata": {
  "kernelspec": {
   "display_name": "Python 3",
   "language": "python",
   "name": "python3"
  },
  "language_info": {
   "codemirror_mode": {
    "name": "ipython",
    "version": 3
   },
   "file_extension": ".py",
   "mimetype": "text/x-python",
   "name": "python",
   "nbconvert_exporter": "python",
   "pygments_lexer": "ipython3",
   "version": "3.8.3"
  }
 },
 "nbformat": 4,
 "nbformat_minor": 2
}
